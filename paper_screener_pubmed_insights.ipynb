{
  "nbformat": 4,
  "nbformat_minor": 0,
  "metadata": {
    "colab": {
      "provenance": []
    },
    "kernelspec": {
      "name": "python3",
      "display_name": "Python 3"
    },
    "language_info": {
      "name": "python"
    }
  },
  "cells": [
    {
      "cell_type": "markdown",
      "source": [
        "Installing the Required Libraries"
      ],
      "metadata": {
        "id": "Nh27cNciwZeF"
      }
    },
    {
      "cell_type": "code",
      "execution_count": 1,
      "metadata": {
        "colab": {
          "base_uri": "https://localhost:8080/"
        },
        "id": "joRf51vYC_dL",
        "outputId": "c78c4c74-b728-4ed0-ba4c-0ee3198eb4ae"
      },
      "outputs": [
        {
          "output_type": "stream",
          "name": "stdout",
          "text": [
            "Requirement already satisfied: requests in /usr/local/lib/python3.11/dist-packages (2.32.3)\n",
            "Requirement already satisfied: lxml in /usr/local/lib/python3.11/dist-packages (5.4.0)\n",
            "Requirement already satisfied: pandas in /usr/local/lib/python3.11/dist-packages (2.2.2)\n",
            "Requirement already satisfied: charset-normalizer<4,>=2 in /usr/local/lib/python3.11/dist-packages (from requests) (3.4.2)\n",
            "Requirement already satisfied: idna<4,>=2.5 in /usr/local/lib/python3.11/dist-packages (from requests) (3.10)\n",
            "Requirement already satisfied: urllib3<3,>=1.21.1 in /usr/local/lib/python3.11/dist-packages (from requests) (2.5.0)\n",
            "Requirement already satisfied: certifi>=2017.4.17 in /usr/local/lib/python3.11/dist-packages (from requests) (2025.7.14)\n",
            "Requirement already satisfied: numpy>=1.23.2 in /usr/local/lib/python3.11/dist-packages (from pandas) (2.0.2)\n",
            "Requirement already satisfied: python-dateutil>=2.8.2 in /usr/local/lib/python3.11/dist-packages (from pandas) (2.9.0.post0)\n",
            "Requirement already satisfied: pytz>=2020.1 in /usr/local/lib/python3.11/dist-packages (from pandas) (2025.2)\n",
            "Requirement already satisfied: tzdata>=2022.7 in /usr/local/lib/python3.11/dist-packages (from pandas) (2025.2)\n",
            "Requirement already satisfied: six>=1.5 in /usr/local/lib/python3.11/dist-packages (from python-dateutil>=2.8.2->pandas) (1.17.0)\n"
          ]
        }
      ],
      "source": [
        "!pip install requests lxml pandas"
      ]
    },
    {
      "cell_type": "markdown",
      "source": [
        "Importing Modules & Defining Global Constants"
      ],
      "metadata": {
        "id": "qs-aK91-we4H"
      }
    },
    {
      "cell_type": "code",
      "source": [
        "import requests\n",
        "import pandas as pd\n",
        "import xml.etree.ElementTree as ET\n",
        "import re\n",
        "from typing import List, Dict, Optional\n",
        "\n",
        "# Keywords used to detect non-academic affiliations\n",
        "NON_ACADEMIC_KEYWORDS = [\n",
        "    'pharma', 'biotech', 'inc', 'ltd', 'gmbh', 'corp',\n",
        "    'therapeutics', 'labs', 'llc', 'co.', 'plc'\n",
        "]"
      ],
      "metadata": {
        "id": "o2Wwxy_Pwj5A"
      },
      "execution_count": 8,
      "outputs": []
    },
    {
      "cell_type": "markdown",
      "source": [
        "PubMed Search Function"
      ],
      "metadata": {
        "id": "UeQwUhljwm_6"
      }
    },
    {
      "cell_type": "code",
      "source": [
        "def search_pubmed(query: str, retmax: int = 20) -> List[str]:\n",
        "    \"\"\"Search PubMed using a query and return list of PubMed IDs.\"\"\"\n",
        "    search_url = \"https://eutils.ncbi.nlm.nih.gov/entrez/eutils/esearch.fcgi\"\n",
        "    params = {\n",
        "        \"db\": \"pubmed\",\n",
        "        \"term\": query,\n",
        "        \"retmode\": \"json\",\n",
        "        \"retmax\": retmax\n",
        "    }\n",
        "    response = requests.get(search_url, params=params)\n",
        "    response.raise_for_status()\n",
        "    return response.json()[\"esearchresult\"][\"idlist\"]"
      ],
      "metadata": {
        "id": "2aIfpt_awsgQ"
      },
      "execution_count": 9,
      "outputs": []
    },
    {
      "cell_type": "markdown",
      "source": [
        "Fetching Articles by IDs"
      ],
      "metadata": {
        "id": "bUNNR4B3wuA-"
      }
    },
    {
      "cell_type": "code",
      "source": [
        "def fetch_articles(pubmed_ids: List[str]) -> List[ET.Element]:\n",
        "    \"\"\"Fetch article metadata from PubMed using ID list.\"\"\"\n",
        "    fetch_url = \"https://eutils.ncbi.nlm.nih.gov/entrez/eutils/efetch.fcgi\"\n",
        "    params = {\n",
        "        \"db\": \"pubmed\",\n",
        "        \"id\": \",\".join(pubmed_ids),\n",
        "        \"retmode\": \"xml\"\n",
        "    }\n",
        "    response = requests.get(fetch_url, params=params)\n",
        "    response.raise_for_status()\n",
        "    root = ET.fromstring(response.text)\n",
        "    return root.findall(\".//PubmedArticle\")"
      ],
      "metadata": {
        "id": "h-E7mf7rwxeR"
      },
      "execution_count": 10,
      "outputs": []
    },
    {
      "cell_type": "markdown",
      "source": [
        "Helper Functions"
      ],
      "metadata": {
        "id": "F9bpy_ydwyt6"
      }
    },
    {
      "cell_type": "code",
      "source": [
        "def is_non_academic(affiliation: str) -> bool:\n",
        "    \"\"\"Check if an affiliation is non-academic using keyword heuristics.\"\"\"\n",
        "    return any(keyword in affiliation.lower() for keyword in NON_ACADEMIC_KEYWORDS)\n",
        "\n",
        "def extract_email(text: str) -> Optional[str]:\n",
        "    \"\"\"Extract email from text using regex.\"\"\"\n",
        "    match = re.search(r\"[A-Za-z0-9._%+-]+@[A-Za-z0-9.-]+\\.[A-Za-z]{2,}\", text)\n",
        "    return match.group(0) if match else None"
      ],
      "metadata": {
        "id": "rJsBaDd8w04w"
      },
      "execution_count": 11,
      "outputs": []
    },
    {
      "cell_type": "markdown",
      "source": [
        "Parsing Articles' Metadata"
      ],
      "metadata": {
        "id": "qXPT7MNYw175"
      }
    },
    {
      "cell_type": "code",
      "source": [
        "def parse_article(article: ET.Element, debug: bool = False) -> Optional[Dict[str, str]]:\n",
        "    \"\"\"Parse one article, extract fields only if it has non-academic authors.\"\"\"\n",
        "    pmid = article.findtext(\".//PMID\")\n",
        "    title = article.findtext(\".//ArticleTitle\")\n",
        "    pub_date = article.findtext(\".//PubDate/Year\") or \"Unknown\"\n",
        "\n",
        "    non_acad_authors = []\n",
        "    affiliations = []\n",
        "    email = \"\"\n",
        "\n",
        "    for author in article.findall(\".//Author\"):\n",
        "        name = f\"{author.findtext('ForeName') or ''} {author.findtext('LastName') or ''}\".strip()\n",
        "        affiliation_node = author.find(\".//AffiliationInfo\")\n",
        "\n",
        "        if affiliation_node is not None:\n",
        "            affiliation = affiliation_node.findtext(\"Affiliation\")\n",
        "            if affiliation:\n",
        "                if is_non_academic(affiliation):\n",
        "                    non_acad_authors.append(name)\n",
        "                    affiliations.append(affiliation)\n",
        "                if not email:\n",
        "                    email = extract_email(affiliation) or email\n",
        "\n",
        "    if not non_acad_authors:\n",
        "        if debug:\n",
        "            print(f\"🔍 Excluded PMID {pmid} — Academic only.\")\n",
        "        return None\n",
        "\n",
        "    return {\n",
        "        \"PubmedID\": pmid,\n",
        "        \"Title\": title,\n",
        "        \"Publication Date\": pub_date,\n",
        "        \"Non-academic Author(s)\": \"; \".join(non_acad_authors),\n",
        "        \"Company Affiliation(s)\": \"; \".join(affiliations),\n",
        "        \"Corresponding Author Email\": email\n",
        "    }"
      ],
      "metadata": {
        "id": "TQhSf--iw4_N"
      },
      "execution_count": 12,
      "outputs": []
    },
    {
      "cell_type": "markdown",
      "source": [
        "Main Pipeline Runner"
      ],
      "metadata": {
        "id": "mijTVtB7w6jQ"
      }
    },
    {
      "cell_type": "code",
      "source": [
        "def run_pipeline(query: str, retmax: int = 20, debug: bool = False) -> pd.DataFrame:\n",
        "    \"\"\"End-to-end process: search, fetch, parse, filter, return DataFrame.\"\"\"\n",
        "    pubmed_ids = search_pubmed(query, retmax)\n",
        "    if debug:\n",
        "        print(f\"🔎 Found {len(pubmed_ids)} articles for query: '{query}'\")\n",
        "\n",
        "    articles = fetch_articles(pubmed_ids)\n",
        "    results = []\n",
        "\n",
        "    for article in articles:\n",
        "        data = parse_article(article, debug=debug)\n",
        "        if data:\n",
        "            results.append(data)\n",
        "\n",
        "    df = pd.DataFrame(results)\n",
        "    return df"
      ],
      "metadata": {
        "id": "V8E632rdw9hm"
      },
      "execution_count": 13,
      "outputs": []
    },
    {
      "cell_type": "markdown",
      "source": [
        "Using the Tool"
      ],
      "metadata": {
        "id": "pANrEl7UxAhR"
      }
    },
    {
      "cell_type": "code",
      "source": [
        "query = \"cancer AND therapy\"\n",
        "df = run_pipeline(query, retmax=25, debug=True)\n",
        "df.to_csv(\"filtered_pubmed_papers.csv\", index=False)\n",
        "df.head()"
      ],
      "metadata": {
        "colab": {
          "base_uri": "https://localhost:8080/",
          "height": 668
        },
        "id": "uXe3U-UVxBx9",
        "outputId": "b16b76ef-a1a5-4d0e-aaf3-b741f07a94b9"
      },
      "execution_count": 14,
      "outputs": [
        {
          "output_type": "stream",
          "name": "stdout",
          "text": [
            "🔎 Found 25 articles for query: 'cancer AND therapy'\n",
            "🔍 Excluded PMID 40742624 — Academic only.\n",
            "🔍 Excluded PMID 40742611 — Academic only.\n",
            "🔍 Excluded PMID 40742586 — Academic only.\n",
            "🔍 Excluded PMID 40742583 — Academic only.\n",
            "🔍 Excluded PMID 40742572 — Academic only.\n",
            "🔍 Excluded PMID 40742566 — Academic only.\n",
            "🔍 Excluded PMID 40742565 — Academic only.\n",
            "🔍 Excluded PMID 40742542 — Academic only.\n",
            "🔍 Excluded PMID 40742486 — Academic only.\n",
            "🔍 Excluded PMID 40742462 — Academic only.\n",
            "🔍 Excluded PMID 40742460 — Academic only.\n",
            "🔍 Excluded PMID 40742448 — Academic only.\n",
            "🔍 Excluded PMID 40742388 — Academic only.\n",
            "🔍 Excluded PMID 40742376 — Academic only.\n",
            "🔍 Excluded PMID 40742352 — Academic only.\n",
            "🔍 Excluded PMID 40742351 — Academic only.\n",
            "🔍 Excluded PMID 40742326 — Academic only.\n",
            "🔍 Excluded PMID 40742316 — Academic only.\n",
            "🔍 Excluded PMID 40742313 — Academic only.\n"
          ]
        },
        {
          "output_type": "execute_result",
          "data": {
            "text/plain": [
              "   PubmedID                                              Title  \\\n",
              "0  40742567  Anti-tumor efficacy of RAF/MEK inhibitor VS676...   \n",
              "1  40742536  ASXL1 deficiency causes epigenetic dysfunction...   \n",
              "2  40742481                                   The effect of Fe   \n",
              "3  40742459  Multi-institutional, randomized, controlled tr...   \n",
              "4  40742385  PI3K/Akt signaling pathway regulates CD155 exp...   \n",
              "\n",
              "  Publication Date                             Non-academic Author(s)  \\\n",
              "0             2025  Haixin Zhu; Gezi Yan; Junjie Ma; Bo Zhang; You...   \n",
              "1             2025  Maggie P Fu; Allison Matthews; Maja Tarailo-Gr...   \n",
              "2             2025  Atefeh Mansuryar; Hossein Ali Ebrahimi; Sergio...   \n",
              "3             2025                        Gina Chung; Frank Jacobucci   \n",
              "4             2025                                      Tatsuya Nishi   \n",
              "\n",
              "                              Company Affiliation(s)  \\\n",
              "0  College of Pharmaceutical Sciences, Hangzhou F...   \n",
              "1  British Columbia Children's Hospital, Centre f...   \n",
              "2  Department of Pharmaceutics, School of Pharmac...   \n",
              "3  The Christ Hospital, Cincinnati, OH, USA.; Che...   \n",
              "4  Okayama University Graduate School of Medicine...   \n",
              "\n",
              "  Corresponding Author Email  \n",
              "0    dongrongdrdr@zju.edu.cn  \n",
              "1                             \n",
              "2     haliebrahimi@gmail.com  \n",
              "3     ssonis@pesclinical.com  \n",
              "4                             "
            ],
            "text/html": [
              "\n",
              "  <div id=\"df-e74818a6-ec34-46b1-b01d-71992073b2d5\" class=\"colab-df-container\">\n",
              "    <div>\n",
              "<style scoped>\n",
              "    .dataframe tbody tr th:only-of-type {\n",
              "        vertical-align: middle;\n",
              "    }\n",
              "\n",
              "    .dataframe tbody tr th {\n",
              "        vertical-align: top;\n",
              "    }\n",
              "\n",
              "    .dataframe thead th {\n",
              "        text-align: right;\n",
              "    }\n",
              "</style>\n",
              "<table border=\"1\" class=\"dataframe\">\n",
              "  <thead>\n",
              "    <tr style=\"text-align: right;\">\n",
              "      <th></th>\n",
              "      <th>PubmedID</th>\n",
              "      <th>Title</th>\n",
              "      <th>Publication Date</th>\n",
              "      <th>Non-academic Author(s)</th>\n",
              "      <th>Company Affiliation(s)</th>\n",
              "      <th>Corresponding Author Email</th>\n",
              "    </tr>\n",
              "  </thead>\n",
              "  <tbody>\n",
              "    <tr>\n",
              "      <th>0</th>\n",
              "      <td>40742567</td>\n",
              "      <td>Anti-tumor efficacy of RAF/MEK inhibitor VS676...</td>\n",
              "      <td>2025</td>\n",
              "      <td>Haixin Zhu; Gezi Yan; Junjie Ma; Bo Zhang; You...</td>\n",
              "      <td>College of Pharmaceutical Sciences, Hangzhou F...</td>\n",
              "      <td>dongrongdrdr@zju.edu.cn</td>\n",
              "    </tr>\n",
              "    <tr>\n",
              "      <th>1</th>\n",
              "      <td>40742536</td>\n",
              "      <td>ASXL1 deficiency causes epigenetic dysfunction...</td>\n",
              "      <td>2025</td>\n",
              "      <td>Maggie P Fu; Allison Matthews; Maja Tarailo-Gr...</td>\n",
              "      <td>British Columbia Children's Hospital, Centre f...</td>\n",
              "      <td></td>\n",
              "    </tr>\n",
              "    <tr>\n",
              "      <th>2</th>\n",
              "      <td>40742481</td>\n",
              "      <td>The effect of Fe</td>\n",
              "      <td>2025</td>\n",
              "      <td>Atefeh Mansuryar; Hossein Ali Ebrahimi; Sergio...</td>\n",
              "      <td>Department of Pharmaceutics, School of Pharmac...</td>\n",
              "      <td>haliebrahimi@gmail.com</td>\n",
              "    </tr>\n",
              "    <tr>\n",
              "      <th>3</th>\n",
              "      <td>40742459</td>\n",
              "      <td>Multi-institutional, randomized, controlled tr...</td>\n",
              "      <td>2025</td>\n",
              "      <td>Gina Chung; Frank Jacobucci</td>\n",
              "      <td>The Christ Hospital, Cincinnati, OH, USA.; Che...</td>\n",
              "      <td>ssonis@pesclinical.com</td>\n",
              "    </tr>\n",
              "    <tr>\n",
              "      <th>4</th>\n",
              "      <td>40742385</td>\n",
              "      <td>PI3K/Akt signaling pathway regulates CD155 exp...</td>\n",
              "      <td>2025</td>\n",
              "      <td>Tatsuya Nishi</td>\n",
              "      <td>Okayama University Graduate School of Medicine...</td>\n",
              "      <td></td>\n",
              "    </tr>\n",
              "  </tbody>\n",
              "</table>\n",
              "</div>\n",
              "    <div class=\"colab-df-buttons\">\n",
              "\n",
              "  <div class=\"colab-df-container\">\n",
              "    <button class=\"colab-df-convert\" onclick=\"convertToInteractive('df-e74818a6-ec34-46b1-b01d-71992073b2d5')\"\n",
              "            title=\"Convert this dataframe to an interactive table.\"\n",
              "            style=\"display:none;\">\n",
              "\n",
              "  <svg xmlns=\"http://www.w3.org/2000/svg\" height=\"24px\" viewBox=\"0 -960 960 960\">\n",
              "    <path d=\"M120-120v-720h720v720H120Zm60-500h600v-160H180v160Zm220 220h160v-160H400v160Zm0 220h160v-160H400v160ZM180-400h160v-160H180v160Zm440 0h160v-160H620v160ZM180-180h160v-160H180v160Zm440 0h160v-160H620v160Z\"/>\n",
              "  </svg>\n",
              "    </button>\n",
              "\n",
              "  <style>\n",
              "    .colab-df-container {\n",
              "      display:flex;\n",
              "      gap: 12px;\n",
              "    }\n",
              "\n",
              "    .colab-df-convert {\n",
              "      background-color: #E8F0FE;\n",
              "      border: none;\n",
              "      border-radius: 50%;\n",
              "      cursor: pointer;\n",
              "      display: none;\n",
              "      fill: #1967D2;\n",
              "      height: 32px;\n",
              "      padding: 0 0 0 0;\n",
              "      width: 32px;\n",
              "    }\n",
              "\n",
              "    .colab-df-convert:hover {\n",
              "      background-color: #E2EBFA;\n",
              "      box-shadow: 0px 1px 2px rgba(60, 64, 67, 0.3), 0px 1px 3px 1px rgba(60, 64, 67, 0.15);\n",
              "      fill: #174EA6;\n",
              "    }\n",
              "\n",
              "    .colab-df-buttons div {\n",
              "      margin-bottom: 4px;\n",
              "    }\n",
              "\n",
              "    [theme=dark] .colab-df-convert {\n",
              "      background-color: #3B4455;\n",
              "      fill: #D2E3FC;\n",
              "    }\n",
              "\n",
              "    [theme=dark] .colab-df-convert:hover {\n",
              "      background-color: #434B5C;\n",
              "      box-shadow: 0px 1px 3px 1px rgba(0, 0, 0, 0.15);\n",
              "      filter: drop-shadow(0px 1px 2px rgba(0, 0, 0, 0.3));\n",
              "      fill: #FFFFFF;\n",
              "    }\n",
              "  </style>\n",
              "\n",
              "    <script>\n",
              "      const buttonEl =\n",
              "        document.querySelector('#df-e74818a6-ec34-46b1-b01d-71992073b2d5 button.colab-df-convert');\n",
              "      buttonEl.style.display =\n",
              "        google.colab.kernel.accessAllowed ? 'block' : 'none';\n",
              "\n",
              "      async function convertToInteractive(key) {\n",
              "        const element = document.querySelector('#df-e74818a6-ec34-46b1-b01d-71992073b2d5');\n",
              "        const dataTable =\n",
              "          await google.colab.kernel.invokeFunction('convertToInteractive',\n",
              "                                                    [key], {});\n",
              "        if (!dataTable) return;\n",
              "\n",
              "        const docLinkHtml = 'Like what you see? Visit the ' +\n",
              "          '<a target=\"_blank\" href=https://colab.research.google.com/notebooks/data_table.ipynb>data table notebook</a>'\n",
              "          + ' to learn more about interactive tables.';\n",
              "        element.innerHTML = '';\n",
              "        dataTable['output_type'] = 'display_data';\n",
              "        await google.colab.output.renderOutput(dataTable, element);\n",
              "        const docLink = document.createElement('div');\n",
              "        docLink.innerHTML = docLinkHtml;\n",
              "        element.appendChild(docLink);\n",
              "      }\n",
              "    </script>\n",
              "  </div>\n",
              "\n",
              "\n",
              "    <div id=\"df-656984c3-9495-49fb-9c35-635a952db85e\">\n",
              "      <button class=\"colab-df-quickchart\" onclick=\"quickchart('df-656984c3-9495-49fb-9c35-635a952db85e')\"\n",
              "                title=\"Suggest charts\"\n",
              "                style=\"display:none;\">\n",
              "\n",
              "<svg xmlns=\"http://www.w3.org/2000/svg\" height=\"24px\"viewBox=\"0 0 24 24\"\n",
              "     width=\"24px\">\n",
              "    <g>\n",
              "        <path d=\"M19 3H5c-1.1 0-2 .9-2 2v14c0 1.1.9 2 2 2h14c1.1 0 2-.9 2-2V5c0-1.1-.9-2-2-2zM9 17H7v-7h2v7zm4 0h-2V7h2v10zm4 0h-2v-4h2v4z\"/>\n",
              "    </g>\n",
              "</svg>\n",
              "      </button>\n",
              "\n",
              "<style>\n",
              "  .colab-df-quickchart {\n",
              "      --bg-color: #E8F0FE;\n",
              "      --fill-color: #1967D2;\n",
              "      --hover-bg-color: #E2EBFA;\n",
              "      --hover-fill-color: #174EA6;\n",
              "      --disabled-fill-color: #AAA;\n",
              "      --disabled-bg-color: #DDD;\n",
              "  }\n",
              "\n",
              "  [theme=dark] .colab-df-quickchart {\n",
              "      --bg-color: #3B4455;\n",
              "      --fill-color: #D2E3FC;\n",
              "      --hover-bg-color: #434B5C;\n",
              "      --hover-fill-color: #FFFFFF;\n",
              "      --disabled-bg-color: #3B4455;\n",
              "      --disabled-fill-color: #666;\n",
              "  }\n",
              "\n",
              "  .colab-df-quickchart {\n",
              "    background-color: var(--bg-color);\n",
              "    border: none;\n",
              "    border-radius: 50%;\n",
              "    cursor: pointer;\n",
              "    display: none;\n",
              "    fill: var(--fill-color);\n",
              "    height: 32px;\n",
              "    padding: 0;\n",
              "    width: 32px;\n",
              "  }\n",
              "\n",
              "  .colab-df-quickchart:hover {\n",
              "    background-color: var(--hover-bg-color);\n",
              "    box-shadow: 0 1px 2px rgba(60, 64, 67, 0.3), 0 1px 3px 1px rgba(60, 64, 67, 0.15);\n",
              "    fill: var(--button-hover-fill-color);\n",
              "  }\n",
              "\n",
              "  .colab-df-quickchart-complete:disabled,\n",
              "  .colab-df-quickchart-complete:disabled:hover {\n",
              "    background-color: var(--disabled-bg-color);\n",
              "    fill: var(--disabled-fill-color);\n",
              "    box-shadow: none;\n",
              "  }\n",
              "\n",
              "  .colab-df-spinner {\n",
              "    border: 2px solid var(--fill-color);\n",
              "    border-color: transparent;\n",
              "    border-bottom-color: var(--fill-color);\n",
              "    animation:\n",
              "      spin 1s steps(1) infinite;\n",
              "  }\n",
              "\n",
              "  @keyframes spin {\n",
              "    0% {\n",
              "      border-color: transparent;\n",
              "      border-bottom-color: var(--fill-color);\n",
              "      border-left-color: var(--fill-color);\n",
              "    }\n",
              "    20% {\n",
              "      border-color: transparent;\n",
              "      border-left-color: var(--fill-color);\n",
              "      border-top-color: var(--fill-color);\n",
              "    }\n",
              "    30% {\n",
              "      border-color: transparent;\n",
              "      border-left-color: var(--fill-color);\n",
              "      border-top-color: var(--fill-color);\n",
              "      border-right-color: var(--fill-color);\n",
              "    }\n",
              "    40% {\n",
              "      border-color: transparent;\n",
              "      border-right-color: var(--fill-color);\n",
              "      border-top-color: var(--fill-color);\n",
              "    }\n",
              "    60% {\n",
              "      border-color: transparent;\n",
              "      border-right-color: var(--fill-color);\n",
              "    }\n",
              "    80% {\n",
              "      border-color: transparent;\n",
              "      border-right-color: var(--fill-color);\n",
              "      border-bottom-color: var(--fill-color);\n",
              "    }\n",
              "    90% {\n",
              "      border-color: transparent;\n",
              "      border-bottom-color: var(--fill-color);\n",
              "    }\n",
              "  }\n",
              "</style>\n",
              "\n",
              "      <script>\n",
              "        async function quickchart(key) {\n",
              "          const quickchartButtonEl =\n",
              "            document.querySelector('#' + key + ' button');\n",
              "          quickchartButtonEl.disabled = true;  // To prevent multiple clicks.\n",
              "          quickchartButtonEl.classList.add('colab-df-spinner');\n",
              "          try {\n",
              "            const charts = await google.colab.kernel.invokeFunction(\n",
              "                'suggestCharts', [key], {});\n",
              "          } catch (error) {\n",
              "            console.error('Error during call to suggestCharts:', error);\n",
              "          }\n",
              "          quickchartButtonEl.classList.remove('colab-df-spinner');\n",
              "          quickchartButtonEl.classList.add('colab-df-quickchart-complete');\n",
              "        }\n",
              "        (() => {\n",
              "          let quickchartButtonEl =\n",
              "            document.querySelector('#df-656984c3-9495-49fb-9c35-635a952db85e button');\n",
              "          quickchartButtonEl.style.display =\n",
              "            google.colab.kernel.accessAllowed ? 'block' : 'none';\n",
              "        })();\n",
              "      </script>\n",
              "    </div>\n",
              "\n",
              "    </div>\n",
              "  </div>\n"
            ],
            "application/vnd.google.colaboratory.intrinsic+json": {
              "type": "dataframe",
              "variable_name": "df",
              "summary": "{\n  \"name\": \"df\",\n  \"rows\": 6,\n  \"fields\": [\n    {\n      \"column\": \"PubmedID\",\n      \"properties\": {\n        \"dtype\": \"string\",\n        \"num_unique_values\": 6,\n        \"samples\": [\n          \"40742567\",\n          \"40742536\",\n          \"40742317\"\n        ],\n        \"semantic_type\": \"\",\n        \"description\": \"\"\n      }\n    },\n    {\n      \"column\": \"Title\",\n      \"properties\": {\n        \"dtype\": \"string\",\n        \"num_unique_values\": 6,\n        \"samples\": [\n          \"Anti-tumor efficacy of RAF/MEK inhibitor VS6766 in KRAS-mutated colorectal cancer cells.\",\n          \"ASXL1 deficiency causes epigenetic dysfunction, combined immunodeficiency, and EBV-associated lymphoma.\",\n          \"Nrf2 hyperactivation as a driver of radiotherapy resistance and suppressed anti-tumor immunity in head and neck squamous cell carcinoma.\"\n        ],\n        \"semantic_type\": \"\",\n        \"description\": \"\"\n      }\n    },\n    {\n      \"column\": \"Publication Date\",\n      \"properties\": {\n        \"dtype\": \"object\",\n        \"num_unique_values\": 1,\n        \"samples\": [\n          \"2025\"\n        ],\n        \"semantic_type\": \"\",\n        \"description\": \"\"\n      }\n    },\n    {\n      \"column\": \"Non-academic Author(s)\",\n      \"properties\": {\n        \"dtype\": \"string\",\n        \"num_unique_values\": 6,\n        \"samples\": [\n          \"Haixin Zhu; Gezi Yan; Junjie Ma; Bo Zhang; Youyou Yan; Lulin Zhu; Rong Dong; Nengming Lin; Biqin Tan\"\n        ],\n        \"semantic_type\": \"\",\n        \"description\": \"\"\n      }\n    },\n    {\n      \"column\": \"Company Affiliation(s)\",\n      \"properties\": {\n        \"dtype\": \"string\",\n        \"num_unique_values\": 6,\n        \"samples\": [\n          \"College of Pharmaceutical Sciences, Hangzhou First People's Hospital, Zhejiang Chinese Medical University, Hangzhou, 311402, China.; College of Pharmaceutical Sciences, Hangzhou First People's Hospital, Zhejiang Chinese Medical University, Hangzhou, 311402, China.; College of Pharmaceutical Sciences, Hangzhou First People's Hospital, Zhejiang Chinese Medical University, Hangzhou, 311402, China.; College of Pharmaceutical Sciences, Hangzhou First People's Hospital, Zhejiang Chinese Medical University, Hangzhou, 311402, China.; Department of Pharmacy, Key Laboratory of Clinical Cancer Pharmacology and Toxicology Research of Zhejiang Province, Affiliated Hangzhou First People's Hospital, School of Medicine, Westlake University, Hangzhou, 310006, China.; Department of Pharmacy, Key Laboratory of Clinical Cancer Pharmacology and Toxicology Research of Zhejiang Province, Affiliated Hangzhou First People's Hospital, School of Medicine, Westlake University, Hangzhou, 310006, China.; College of Pharmaceutical Sciences, Hangzhou First People's Hospital, Zhejiang Chinese Medical University, Hangzhou, 311402, China. dongrongdrdr@zju.edu.cn.; College of Pharmaceutical Sciences, Hangzhou First People's Hospital, Zhejiang Chinese Medical University, Hangzhou, 311402, China. lnm1013@163.com.; College of Pharmaceutical Sciences, Hangzhou First People's Hospital, Zhejiang Chinese Medical University, Hangzhou, 311402, China. biqintan@zju.edu.cn.\"\n        ],\n        \"semantic_type\": \"\",\n        \"description\": \"\"\n      }\n    },\n    {\n      \"column\": \"Corresponding Author Email\",\n      \"properties\": {\n        \"dtype\": \"string\",\n        \"num_unique_values\": 4,\n        \"samples\": [\n          \"\"\n        ],\n        \"semantic_type\": \"\",\n        \"description\": \"\"\n      }\n    }\n  ]\n}"
            }
          },
          "metadata": {},
          "execution_count": 14
        }
      ]
    }
  ]
}